{
 "cells": [
  {
   "cell_type": "code",
   "execution_count": 1,
   "metadata": {},
   "outputs": [],
   "source": [
    "import string"
   ]
  },
  {
   "cell_type": "code",
   "execution_count": 2,
   "metadata": {},
   "outputs": [
    {
     "name": "stdout",
     "output_type": "stream",
     "text": [
      "The quick brown fox jumped over the lazy dog.\n",
      "The Quick Brown Fox Jumped Over The Lazy Dog.\n"
     ]
    }
   ],
   "source": [
    "s = 'The quick brown fox jumped over the lazy dog.'\n",
    "print(s)\n",
    "print(string.capwords(s))"
   ]
  },
  {
   "cell_type": "code",
   "execution_count": 3,
   "metadata": {},
   "outputs": [],
   "source": [
    "import string"
   ]
  },
  {
   "cell_type": "code",
   "execution_count": 4,
   "metadata": {},
   "outputs": [],
   "source": [
    "values = {'var': 'foo'}\n",
    "t = string.Template(\"\"\"\n",
    "Variable            : $var\n",
    "Escape              : $$\n",
    "Variable in text    : ${var}iable\n",
    "\"\"\")"
   ]
  },
  {
   "cell_type": "code",
   "execution_count": 5,
   "metadata": {},
   "outputs": [
    {
     "name": "stdout",
     "output_type": "stream",
     "text": [
      "TEMPLATE: \n",
      "Variable            : foo\n",
      "Escape              : $\n",
      "Variable in text    : fooiable\n",
      "\n",
      "INTERPOLATION: \n",
      "Variable              : foo\n",
      "Escape                : %\n",
      "Variable in text      : fooiable\n",
      "\n",
      "FORMAT: \n",
      "Variable            :foo\n",
      "Escape              :{}\n",
      "Variable in text    : fooiable\n",
      "\n"
     ]
    }
   ],
   "source": [
    "print('TEMPLATE:', t.substitute(values))\n",
    "s = \"\"\"\n",
    "Variable              : %(var)s\n",
    "Escape                : %%\n",
    "Variable in text      : %(var)siable\n",
    "\"\"\"\n",
    "\n",
    "print('INTERPOLATION:', s % values)\n",
    "\n",
    "s = \"\"\"\n",
    "Variable            :{var}\n",
    "Escape              :{{}}\n",
    "Variable in text    : {var}iable\n",
    "\"\"\"\n",
    "\n",
    "print('FORMAT:', s.format(**values))"
   ]
  },
  {
   "cell_type": "code",
   "execution_count": 6,
   "metadata": {},
   "outputs": [],
   "source": [
    "import string"
   ]
  },
  {
   "cell_type": "code",
   "execution_count": 7,
   "metadata": {},
   "outputs": [],
   "source": [
    "values = {'var': 'foo'}\n",
    "\n",
    "t = string.Template(\"$var is the here but $missing is not provided\")"
   ]
  },
  {
   "cell_type": "code",
   "execution_count": 9,
   "metadata": {},
   "outputs": [
    {
     "name": "stdout",
     "output_type": "stream",
     "text": [
      "ERROR: 'missing'\n",
      "safe_substitute(): foo is the here but $missing is not provided\n"
     ]
    }
   ],
   "source": [
    "try :\n",
    "    print('substitute()     :',t.substitute(values))\n",
    "except KeyError as err:\n",
    "    print('ERROR:', str(err))\n",
    "\n",
    "print('safe_substitute():',t.safe_substitute(values))"
   ]
  },
  {
   "cell_type": "code",
   "execution_count": 10,
   "metadata": {},
   "outputs": [],
   "source": [
    "import string"
   ]
  },
  {
   "cell_type": "code",
   "execution_count": 11,
   "metadata": {},
   "outputs": [
    {
     "name": "stdout",
     "output_type": "stream",
     "text": [
      "Modified ID pattern:\n",
      "\n",
      "    Delimiter   : %\n",
      "    Replaced    : replaced\n",
      "    Ignored     : %notunderscored\n",
      "    \n"
     ]
    }
   ],
   "source": [
    "class MyTemplate(string.Template):\n",
    "    delimiter = '%'\n",
    "    idpattern = '[a-z]+_[a-z]+'\n",
    "    \n",
    "template_text = '''\n",
    "    Delimiter   : %%\n",
    "    Replaced    : %with_underscore\n",
    "    Ignored     : %notunderscored\n",
    "    '''\n",
    "\n",
    "d = {\n",
    "    'with_underscore': 'replaced',\n",
    "    'notunderscored' : 'not replaced'\n",
    "}\n",
    "\n",
    "t = MyTemplate(template_text)\n",
    "print('Modified ID pattern:')\n",
    "print(t.safe_substitute(d))"
   ]
  },
  {
   "cell_type": "code",
   "execution_count": 12,
   "metadata": {},
   "outputs": [],
   "source": [
    "import string"
   ]
  },
  {
   "cell_type": "code",
   "execution_count": 13,
   "metadata": {},
   "outputs": [
    {
     "ename": "AttributeError",
     "evalue": "module 'string' has no attribute 'Templelate'",
     "output_type": "error",
     "traceback": [
      "\u001b[0;31m---------------------------------------------------------------------------\u001b[0m",
      "\u001b[0;31mAttributeError\u001b[0m                            Traceback (most recent call last)",
      "\u001b[0;32m<ipython-input-13-a8f44d2188eb>\u001b[0m in \u001b[0;36m<module>\u001b[0;34m\u001b[0m\n\u001b[0;32m----> 1\u001b[0;31m \u001b[0mt\u001b[0m \u001b[0;34m=\u001b[0m \u001b[0mstring\u001b[0m\u001b[0;34m.\u001b[0m\u001b[0mTemplelate\u001b[0m\u001b[0;34m(\u001b[0m\u001b[0;34m'$var'\u001b[0m\u001b[0;34m)\u001b[0m\u001b[0;34m\u001b[0m\u001b[0;34m\u001b[0m\u001b[0m\n\u001b[0m\u001b[1;32m      2\u001b[0m \u001b[0mprint\u001b[0m\u001b[0;34m(\u001b[0m\u001b[0mt\u001b[0m\u001b[0;34m.\u001b[0m\u001b[0mpattern\u001b[0m\u001b[0;34m.\u001b[0m\u001b[0mpattrn\u001b[0m\u001b[0;34m)\u001b[0m\u001b[0;34m\u001b[0m\u001b[0;34m\u001b[0m\u001b[0m\n",
      "\u001b[0;31mAttributeError\u001b[0m: module 'string' has no attribute 'Templelate'"
     ]
    }
   ],
   "source": [
    "t = string.Templelate('$var')\n",
    "print(t.pattern.pattrn)"
   ]
  },
  {
   "cell_type": "code",
   "execution_count": 14,
   "metadata": {},
   "outputs": [],
   "source": []
  },
  {
   "cell_type": "code",
   "execution_count": null,
   "metadata": {},
   "outputs": [],
   "source": []
  }
 ],
 "metadata": {
  "kernelspec": {
   "display_name": "Python 3",
   "language": "python",
   "name": "python3"
  },
  "language_info": {
   "codemirror_mode": {
    "name": "ipython",
    "version": 3
   },
   "file_extension": ".py",
   "mimetype": "text/x-python",
   "name": "python",
   "nbconvert_exporter": "python",
   "pygments_lexer": "ipython3",
   "version": "3.7.4"
  }
 },
 "nbformat": 4,
 "nbformat_minor": 2
}
