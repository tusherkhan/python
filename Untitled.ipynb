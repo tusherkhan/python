{
 "cells": [
  {
   "cell_type": "code",
   "execution_count": 1,
   "metadata": {},
   "outputs": [],
   "source": [
    "import string"
   ]
  },
  {
   "cell_type": "code",
   "execution_count": 2,
   "metadata": {},
   "outputs": [
    {
     "name": "stdout",
     "output_type": "stream",
     "text": [
      "\n",
      "    \\$(?:\n",
      "      (?P<escaped>\\$) |   # Escape sequence of two delimiters\n",
      "      (?P<named>(?a:[_a-z][_a-z0-9]*))      |   # delimiter and a Python identifier\n",
      "      {(?P<braced>(?a:[_a-z][_a-z0-9]*))}  |   # delimiter and a braced identifier\n",
      "      (?P<invalid>)              # Other ill-formed delimiter exprs\n",
      "    )\n",
      "    \n"
     ]
    }
   ],
   "source": [
    "t = string.Template('$var')\n",
    "print(t.pattern.pattern)"
   ]
  },
  {
   "cell_type": "code",
   "execution_count": 3,
   "metadata": {},
   "outputs": [],
   "source": [
    "import string"
   ]
  },
  {
   "cell_type": "code",
   "execution_count": 4,
   "metadata": {},
   "outputs": [],
   "source": [
    "class MyTemplate(string.Template):\n",
    "    delimiter = '%'\n",
    "    idpattern = '[a-z]+_[a-z]+'"
   ]
  },
  {
   "cell_type": "code",
   "execution_count": 5,
   "metadata": {},
   "outputs": [],
   "source": [
    "template_text = '''\n",
    "Delimiter   : %%\n",
    "Replaced    :%with_underscore\n",
    "Ignored     : %notunderscored\n",
    "'''"
   ]
  },
  {
   "cell_type": "code",
   "execution_count": 6,
   "metadata": {},
   "outputs": [],
   "source": [
    "d = {\n",
    "    'with_underscore' : 'replaced',\n",
    "    'notunderscored'  : 'not replaced',\n",
    "}"
   ]
  },
  {
   "cell_type": "code",
   "execution_count": 7,
   "metadata": {},
   "outputs": [
    {
     "name": "stdout",
     "output_type": "stream",
     "text": [
      "Modified ID Pattern: \n",
      "\n",
      "Delimiter   : %\n",
      "Replaced    :replaced\n",
      "Ignored     : %notunderscored\n",
      "\n"
     ]
    }
   ],
   "source": [
    "t = MyTemplate(template_text)\n",
    "print('Modified ID Pattern: ')\n",
    "print(t.safe_substitute(d))"
   ]
  },
  {
   "cell_type": "code",
   "execution_count": 8,
   "metadata": {},
   "outputs": [],
   "source": [
    "import re\n",
    "import string"
   ]
  },
  {
   "cell_type": "code",
   "execution_count": 9,
   "metadata": {},
   "outputs": [],
   "source": [
    "class MyTemplate(string.Template):\n",
    "   delimiter = '{{'\n",
    "   pattern = r'''\n",
    "   \\{\\{(?:\n",
    "   (?P<escaped>\\{\\{)|\n",
    "   (?P<named>[_a-z][_a-z0-9]*)\\}\\}|\n",
    "   (?P<braced>[_a-z][_a-z0-9]*)\\}\\}|\n",
    "   (?P<invalid>)\n",
    ")\n",
    "'''"
   ]
  },
  {
   "cell_type": "code",
   "execution_count": 10,
   "metadata": {},
   "outputs": [
    {
     "name": "stdout",
     "output_type": "stream",
     "text": [
      "MATCHES: [('{{', '', '', ''), ('', 'var', '', '')]\n",
      "SUBTITUTED: \n",
      "{{\n",
      "replacement\n",
      "}}}}\n"
     ]
    }
   ],
   "source": [
    "t = MyTemplate('''\n",
    "{{{{\n",
    "{{var}}\n",
    "}}}}''')\n",
    "print('MATCHES:', t.pattern.findall(t.template))\n",
    "print('SUBTITUTED:', t.safe_substitute(var='replacement'))"
   ]
  },
  {
   "cell_type": "code",
   "execution_count": 11,
   "metadata": {},
   "outputs": [],
   "source": [
    "import inspect\n",
    "import string"
   ]
  },
  {
   "cell_type": "code",
   "execution_count": 12,
   "metadata": {},
   "outputs": [],
   "source": [
    "def is_str(value):\n",
    "    return isinstance(value, str)"
   ]
  },
  {
   "cell_type": "code",
   "execution_count": 66,
   "metadata": {},
   "outputs": [
    {
     "name": "stdout",
     "output_type": "stream",
     "text": [
      "ascii_letters='abcdefghijklmnopqrstuvwxyzABCDEFGHIJKLMNOPQRSTUVWXYZ'/n\n",
      "ascii_lowercase='abcdefghijklmnopqrstuvwxyz'/n\n",
      "ascii_uppercase='ABCDEFGHIJKLMNOPQRSTUVWXYZ'/n\n",
      "digits='0123456789'/n\n",
      "hexdigits='0123456789abcdefABCDEF'/n\n",
      "octdigits='01234567'/n\n",
      "printable='0123456789abcdefghijklmnopqrstuvwxyzABCDEFGHIJKLMNOPQRSTUVWXYZ!\"#$%&\\'()*+,-./:;<=>?@[\\\\]^_`{|}~ \\t\\n\\r\\x0b\\x0c'/n\n",
      "punctuation='!\"#$%&\\'()*+,-./:;<=>?@[\\\\]^_`{|}~'/n\n",
      "whitespace=' \\t\\n\\r\\x0b\\x0c'/n\n"
     ]
    }
   ],
   "source": [
    "for name, value in inspect.getmembers(string, is_str):\n",
    "    if name.startswith('_'):\n",
    "        continue\n",
    "    print('%s=%r/n' %(name, value))"
   ]
  },
  {
   "cell_type": "code",
   "execution_count": 14,
   "metadata": {},
   "outputs": [],
   "source": [
    "import textwrap"
   ]
  },
  {
   "cell_type": "code",
   "execution_count": 15,
   "metadata": {},
   "outputs": [],
   "source": [
    "sample_text = '''\n",
    "The textwrap module can be used to format text for output in\n",
    "situation where pretty-printing is desired. It offers programatic functionlity\n",
    "similar to the paragraph wrappi or filling features found in many text editor.\n",
    "'''"
   ]
  },
  {
   "cell_type": "code",
   "execution_count": 16,
   "metadata": {},
   "outputs": [
    {
     "name": "stdout",
     "output_type": "stream",
     "text": [
      " The textwrap module can be used to format text for output in\n",
      "situation where pretty-printing is desired. It offers programatic\n",
      "functionlity similar to the paragraph wrappi or filling features found\n",
      "in many text editor.\n"
     ]
    }
   ],
   "source": [
    "print(textwrap.fill(sample_text, width=70))"
   ]
  },
  {
   "cell_type": "code",
   "execution_count": 17,
   "metadata": {},
   "outputs": [
    {
     "name": "stdout",
     "output_type": "stream",
     "text": [
      "Dedented:\n",
      "\n",
      "The textwrap module can be used to format text for output in\n",
      "situation where pretty-printing is desired. It offers programatic functionlity\n",
      "similar to the paragraph wrappi or filling features found in many text editor.\n",
      "\n"
     ]
    }
   ],
   "source": [
    "dedented_text = textwrap.dedent(sample_text)\n",
    "print('Dedented:')\n",
    "print(dedented_text)"
   ]
  },
  {
   "cell_type": "code",
   "execution_count": 18,
   "metadata": {},
   "outputs": [
    {
     "name": "stdout",
     "output_type": "stream",
     "text": [
      "45 Columns:\n",
      "\n",
      "The textwrap module can be used to format\n",
      "text for output in situation where pretty-\n",
      "printing is desired. It offers programatic\n",
      "functionlity similar to the paragraph wrappi\n",
      "or filling features found in many text\n",
      "editor.\n",
      "\n",
      "60 Columns:\n",
      "\n",
      "The textwrap module can be used to format text for output in\n",
      "situation where pretty-printing is desired. It offers\n",
      "programatic functionlity similar to the paragraph wrappi or\n",
      "filling features found in many text editor.\n",
      "\n"
     ]
    }
   ],
   "source": [
    "dedented_text = textwrap.dedent(sample_text).strip()\n",
    "for width in [45, 60]:\n",
    "    print('{} Columns:\\n'.format(width))\n",
    "    print(textwrap.fill(dedented_text, width))\n",
    "    print()"
   ]
  },
  {
   "cell_type": "code",
   "execution_count": 19,
   "metadata": {},
   "outputs": [],
   "source": [
    "dedented_text = textwrap.dedent(sample_text)\n",
    "wrapped = textwrap.fill(dedented_text, width=50)\n",
    "wrapped += '\\n\\nSecond paragraph after a blank line.'\n",
    "final = textwrap.indent(wrapped, '>')"
   ]
  },
  {
   "cell_type": "code",
   "execution_count": 20,
   "metadata": {},
   "outputs": [
    {
     "name": "stdout",
     "output_type": "stream",
     "text": [
      "Quoted block:\n",
      "\n",
      "> The textwrap module can be used to format text\n",
      ">for output in situation where pretty-printing is\n",
      ">desired. It offers programatic functionlity\n",
      ">similar to the paragraph wrappi or filling\n",
      ">features found in many text editor.\n",
      "\n",
      ">Second paragraph after a blank line.\n"
     ]
    }
   ],
   "source": [
    "print('Quoted block:\\n')\n",
    "print(final)"
   ]
  },
  {
   "cell_type": "code",
   "execution_count": 21,
   "metadata": {},
   "outputs": [],
   "source": [
    "def should_indent(line):\n",
    "    print('Indent {!r}?'.format(line))\n",
    "    return len(line.strip()) % 2 == 0"
   ]
  },
  {
   "cell_type": "code",
   "execution_count": 22,
   "metadata": {},
   "outputs": [
    {
     "name": "stdout",
     "output_type": "stream",
     "text": [
      "Indent ' The textwrap module can be used to format text\\n'?\n",
      "Indent 'for output in situation where pretty-printing is\\n'?\n",
      "Indent 'desired. It offers programatic functionlity\\n'?\n",
      "Indent 'similar to the paragraph wrappi or filling\\n'?\n",
      "Indent 'features found in many text editor.'?\n",
      "\n",
      "Quoted block:\n",
      "\n",
      "EVEN The textwrap module can be used to format text\n",
      "EVENfor output in situation where pretty-printing is\n",
      "desired. It offers programatic functionlity\n",
      "EVENsimilar to the paragraph wrappi or filling\n",
      "features found in many text editor.\n"
     ]
    }
   ],
   "source": [
    "dedented_text = textwrap.dedent(sample_text)\n",
    "wrapped = textwrap.fill(dedented_text, width=50)\n",
    "final = textwrap.indent(wrapped, 'EVEN',\n",
    "                       predicate=should_indent)\n",
    "\n",
    "print('\\nQuoted block:\\n')\n",
    "print(final)"
   ]
  },
  {
   "cell_type": "code",
   "execution_count": 23,
   "metadata": {},
   "outputs": [],
   "source": [
    "dedented_text = textwrap.dedent(sample_text).strip()"
   ]
  },
  {
   "cell_type": "code",
   "execution_count": 26,
   "metadata": {},
   "outputs": [
    {
     "name": "stdout",
     "output_type": "stream",
     "text": [
      "The textwrap module can be used to format text for\n",
      "    output in situation where pretty-printing is\n",
      "    desired. It offers programatic functionlity\n",
      "    similar to the paragraph wrappi or filling\n",
      "    features found in many text editor.\n"
     ]
    }
   ],
   "source": [
    "print(textwrap.fill(dedented_text,\n",
    "                   initial_indent='',\n",
    "                   subsequent_indent=' ' * 4,\n",
    "                   width=50,\n",
    "                   ))"
   ]
  },
  {
   "cell_type": "code",
   "execution_count": 28,
   "metadata": {},
   "outputs": [],
   "source": [
    "dedented_text = textwrap.dedent(sample_text)\n",
    "original = textwrap.fill(dedented_text, width=50)"
   ]
  },
  {
   "cell_type": "code",
   "execution_count": 30,
   "metadata": {},
   "outputs": [
    {
     "name": "stdout",
     "output_type": "stream",
     "text": [
      "Original:\n",
      "\n",
      " The textwrap module can be used to format text\n",
      "for output in situation where pretty-printing is\n",
      "desired. It offers programatic functionlity\n",
      "similar to the paragraph wrappi or filling\n",
      "features found in many text editor.\n",
      "\n",
      "Shortened:\n",
      "\n",
      "The textwrap module can be used to format text for\n",
      "output in situation where pretty-printing [...]\n"
     ]
    }
   ],
   "source": [
    "print('Original:\\n')\n",
    "print(original)\n",
    "shortened = textwrap.shorten(original, 100)\n",
    "shortened_wrappend = textwrap.fill(shortened, width=50)\n",
    "print('\\nShortened:\\n')\n",
    "print(shortened_wrappend)"
   ]
  },
  {
   "cell_type": "code",
   "execution_count": 31,
   "metadata": {},
   "outputs": [],
   "source": [
    "import re"
   ]
  },
  {
   "cell_type": "code",
   "execution_count": 32,
   "metadata": {},
   "outputs": [],
   "source": [
    "pattern ='this'\n",
    "text = 'Does this text match the pattern?'"
   ]
  },
  {
   "cell_type": "code",
   "execution_count": 34,
   "metadata": {},
   "outputs": [],
   "source": [
    "match = re.search(pattern, text)"
   ]
  },
  {
   "cell_type": "code",
   "execution_count": 35,
   "metadata": {},
   "outputs": [],
   "source": [
    "s = match.start()\n",
    "e = match.end()"
   ]
  },
  {
   "cell_type": "code",
   "execution_count": 36,
   "metadata": {},
   "outputs": [
    {
     "name": "stdout",
     "output_type": "stream",
     "text": [
      "Found \"this\"nin \"Does this text match the pattern?\"\n",
      "from 5 to 9 (\"this\")\n"
     ]
    }
   ],
   "source": [
    "print('Found \"{}\"nin \"{}\"\\nfrom {} to {} (\"{}\")'.format(\n",
    "     match.re.pattern, match.string, s, e, text[s:e]))"
   ]
  },
  {
   "cell_type": "code",
   "execution_count": 37,
   "metadata": {},
   "outputs": [],
   "source": [
    "regexes = [\n",
    "    re.compile(p)\n",
    "    for p in ['this', 'that']\n",
    "]\n",
    "text = 'Does this text match the pattern?'"
   ]
  },
  {
   "cell_type": "code",
   "execution_count": 40,
   "metadata": {},
   "outputs": [
    {
     "name": "stdout",
     "output_type": "stream",
     "text": [
      "Text: 'Does this text match the pattern?'\n",
      "\n",
      "Seeking \"this\" -> match\n",
      "Seeking \"that\" -> no match\n"
     ]
    }
   ],
   "source": [
    "print('Text: {!r}\\n'.format(text))\n",
    "for regex in regexes:\n",
    "    print('Seeking \"{}\" ->'.format(regex.pattern),\n",
    "         end=' ')\n",
    "    if regex.search(text):\n",
    "        print('match')\n",
    "    else:\n",
    "        print('no match')"
   ]
  },
  {
   "cell_type": "code",
   "execution_count": 41,
   "metadata": {},
   "outputs": [],
   "source": [
    "text = 'abbaabbbbaaaa'"
   ]
  },
  {
   "cell_type": "code",
   "execution_count": 42,
   "metadata": {},
   "outputs": [],
   "source": [
    "pattern = 'ab'"
   ]
  },
  {
   "cell_type": "code",
   "execution_count": 43,
   "metadata": {},
   "outputs": [
    {
     "name": "stdout",
     "output_type": "stream",
     "text": [
      "Found 'ab'\n",
      "Found 'ab'\n"
     ]
    }
   ],
   "source": [
    "for match in re.findall(pattern, text):\n",
    "    print('Found {!r}'.format(match))"
   ]
  },
  {
   "cell_type": "code",
   "execution_count": 44,
   "metadata": {},
   "outputs": [
    {
     "name": "stdout",
     "output_type": "stream",
     "text": [
      "Found 'ab' at 0:2\n",
      "Found 'ab' at 4:6\n"
     ]
    }
   ],
   "source": [
    "for match in re.finditer(pattern, text):\n",
    "    s = match.start()\n",
    "    e = match.end()\n",
    "    print('Found {!r} at {:d}:{:d}'.format(\n",
    "         text[s:e], s, e))"
   ]
  },
  {
   "cell_type": "code",
   "execution_count": 62,
   "metadata": {},
   "outputs": [],
   "source": [
    "def test_patterns(text, patterns):\n",
    "    \"\"\"Given source text and a list of patterns, look for\n",
    "    matches for each pattern withing the text and print\n",
    "    them to stdout.\n",
    "    \"\"\" \n",
    "    # Look for each pattern text and print the results.\n",
    "    for pattern, desc in patterns:\n",
    "        print(\"'{}' ({})\\n\".format(pattern, desc))\n",
    "        print(\" '{}'\".format(text))\n",
    "        for match in re.finditer(pattern, text):\n",
    "            s = match.start()\n",
    "            e = match.end()\n",
    "            substr = text[s:e]\n",
    "            n_backslashes = text[:s].count('\\\\')\n",
    "            prefix = '.' * (s + n_backslashes)\n",
    "            print(\" {}'{}'\".format(prefix, substr))\n",
    "        print()\n",
    "    return"
   ]
  },
  {
   "cell_type": "code",
   "execution_count": 63,
   "metadata": {
    "scrolled": true
   },
   "outputs": [
    {
     "name": "stdout",
     "output_type": "stream",
     "text": [
      "'ab' ('a' followed by 'b')\n",
      "\n",
      " 'abbaaabbbaaa'\n",
      " 'ab'\n",
      " .....'ab'\n",
      "\n"
     ]
    }
   ],
   "source": [
    "if __name__ == '__main__':\n",
    "    test_patterns('abbaaabbbaaa',\n",
    "                [('ab', \"'a' followed by 'b'\"),\n",
    "                ])"
   ]
  },
  {
   "cell_type": "code",
   "execution_count": 65,
   "metadata": {},
   "outputs": [
    {
     "name": "stdout",
     "output_type": "stream",
     "text": [
      "'ab*' (a followed by zero or more b)\n",
      "\n",
      " 'abbaabbba'\n",
      " 'abb'\n",
      " ...'a'\n",
      " ....'abbb'\n",
      " ........'a'\n",
      "\n",
      "'ab+' (a followed by one or more b)\n",
      "\n",
      " 'abbaabbba'\n",
      " 'abb'\n",
      " ....'abbb'\n",
      "\n",
      "'ab?' (a followed by zero or one b)\n",
      "\n",
      " 'abbaabbba'\n",
      " 'ab'\n",
      " ...'a'\n",
      " ....'ab'\n",
      " ........'a'\n",
      "\n",
      "'ab{3}' (a followed by three b)\n",
      "\n",
      " 'abbaabbba'\n",
      " ....'abbb'\n",
      "\n",
      "'ab{2,3}' (a followed by two to three b)\n",
      "\n",
      " 'abbaabbba'\n",
      " 'abb'\n",
      " ....'abbb'\n",
      "\n"
     ]
    }
   ],
   "source": [
    "test_patterns(\n",
    "    'abbaabbba',\n",
    "    [('ab*', 'a followed by zero or more b'),\n",
    "     ('ab+', 'a followed by one or more b'),\n",
    "     ('ab?', 'a followed by zero or one b'),\n",
    "     ('ab{3}', 'a followed by three b'),\n",
    "     ('ab{2,3}', 'a followed by two to three b')],\n",
    ")"
   ]
  },
  {
   "cell_type": "code",
   "execution_count": null,
   "metadata": {},
   "outputs": [],
   "source": [
    "test_patterns()"
   ]
  }
 ],
 "metadata": {
  "kernelspec": {
   "display_name": "Python 3",
   "language": "python",
   "name": "python3"
  },
  "language_info": {
   "codemirror_mode": {
    "name": "ipython",
    "version": 3
   },
   "file_extension": ".py",
   "mimetype": "text/x-python",
   "name": "python",
   "nbconvert_exporter": "python",
   "pygments_lexer": "ipython3",
   "version": "3.7.3"
  }
 },
 "nbformat": 4,
 "nbformat_minor": 2
}
